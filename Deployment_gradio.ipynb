{
 "cells": [
  {
   "cell_type": "code",
   "execution_count": 204,
   "id": "71e9ab1a-0660-4e10-9632-047b7996a62b",
   "metadata": {},
   "outputs": [
    {
     "name": "stdout",
     "output_type": "stream",
     "text": [
      "Running on local URL:  http://127.0.0.1:7911\n",
      "\n",
      "Could not create share link. Please check your internet connection or our status page: https://status.gradio.app.\n"
     ]
    },
    {
     "data": {
      "text/html": [
       "<div><iframe src=\"http://127.0.0.1:7911/\" width=\"100%\" height=\"500\" allow=\"autoplay; camera; microphone; clipboard-read; clipboard-write;\" frameborder=\"0\" allowfullscreen></iframe></div>"
      ],
      "text/plain": [
       "<IPython.core.display.HTML object>"
      ]
     },
     "metadata": {},
     "output_type": "display_data"
    },
    {
     "data": {
      "text/plain": []
     },
     "execution_count": 204,
     "metadata": {},
     "output_type": "execute_result"
    }
   ],
   "source": [
    "import gradio as gr\n",
    "import pandas as pd\n",
    "import numpy as np\n",
    "from sklearn.preprocessing import StandardScaler, OneHotEncoder\n",
    "from sklearn.impute import SimpleImputer\n",
    "from sklearn.model_selection import train_test_split\n",
    "from sklearn.tree import DecisionTreeClassifier\n",
    "from sklearn.compose import ColumnTransformer\n",
    "from sklearn.pipeline import Pipeline\n",
    "from sklearn.ensemble import RandomForestClassifier\n",
    "\n",
    "\n",
    "# Load your data\n",
    "data = pd.read_csv('dataset_part_2.csv')\n",
    "features = data[['PayloadMass', 'Orbit', 'LaunchSite']]\n",
    "Y = data['Class'].to_numpy()\n",
    "\n",
    "# Define preprocessor with one-hot encoding\n",
    "preprocessor = ColumnTransformer(\n",
    "    transformers=[\n",
    "        ('num', StandardScaler(), ['PayloadMass']),\n",
    "        ('cat', OneHotEncoder(drop='first', handle_unknown='ignore'), ['Orbit', 'LaunchSite'])\n",
    "    ]\n",
    ")\n",
    "# Best parameters: {'classifier__max_depth': None, 'classifier__min_samples_leaf': 2, 'classifier__min_samples_split': 5}\n",
    "\n",
    "# Create a pipeline\n",
    "# pipeline = Pipeline(steps=[\n",
    "#     ('preprocessor', preprocessor),\n",
    "#     ('classifier', DecisionTreeClassifier(\n",
    "#         ccp_alpha=0.0194,\n",
    "#         class_weight='balanced',\n",
    "#         criterion='gini',\n",
    "#         max_depth=None,\n",
    "#         max_features='sqrt',\n",
    "#         min_samples_leaf=2,\n",
    "#         min_samples_split=5,\n",
    "#         splitter='random'\n",
    "#     ))\n",
    "# ])\n",
    "# Create a pipeline\n",
    "pipeline = Pipeline(steps=[\n",
    "    ('preprocessor', preprocessor),\n",
    "    ('classifier', RandomForestClassifier(class_weight='balanced', random_state=2)\n",
    "    )])\n",
    "# Split the dataset\n",
    "X_train, X_test, Y_train, Y_test = train_test_split(features, Y, test_size=0.2, random_state=2, stratify=Y)\n",
    "\n",
    "# Fit the model\n",
    "pipeline.fit(X_train, Y_train)\n",
    "\n",
    "def predict_class(mass_payload, orbit, launch_site):\n",
    "    # Prepare input data as a DataFrame\n",
    "    input_data = pd.DataFrame([[mass_payload, orbit, launch_site]], \n",
    "                               columns=['PayloadMass', 'Orbit', 'LaunchSite'])\n",
    "    \n",
    "    # Make prediction using the pipeline\n",
    "    prediction = pipeline.predict(input_data)\n",
    "    \n",
    "    return \"Success\" if prediction[0] == 1 else \"Failure\"\n",
    "\n",
    "# Gradio inputs\n",
    "mass_payload_input = gr.Number(label='Mass Payload (kg)', value=5000)\n",
    "orbit_input = gr.Dropdown(choices=['LEO', 'GTO', 'ISS', 'PO', 'VLEO', 'SSO', 'GEO', 'MEO', 'HEO', 'ES-L1'], label='Orbit')\n",
    "launch_site_input = gr.Dropdown(choices=['KSC LC 39A', 'CCSFS SLC 40', 'VAFB SLC 4E'], label='Launch Site')\n",
    "\n",
    "# Gradio interface\n",
    "interface = gr.Interface(\n",
    "    fn=predict_class, \n",
    "    inputs=[mass_payload_input, orbit_input, launch_site_input], \n",
    "    outputs=\"text\", \n",
    "    title=\"Space Y Mission Success Predictor\",\n",
    "    description=\"Predict the success or failure of a space mission based on Mass Payload, Orbit, and Launch Site.\"\n",
    ")\n",
    "\n",
    "# Launch the interface\n",
    "interface.launch(share=True)  # Use share=True for remote access\n"
   ]
  },
  {
   "cell_type": "code",
   "execution_count": 197,
   "id": "ea2fb73e-e9bb-42f7-9c03-327954a5bb95",
   "metadata": {},
   "outputs": [
    {
     "name": "stdout",
     "output_type": "stream",
     "text": [
      "              precision    recall  f1-score   support\n",
      "\n",
      "           0       0.33      1.00      0.50         6\n",
      "           1       0.00      0.00      0.00        12\n",
      "\n",
      "    accuracy                           0.33        18\n",
      "   macro avg       0.17      0.50      0.25        18\n",
      "weighted avg       0.11      0.33      0.17        18\n",
      "\n"
     ]
    },
    {
     "name": "stderr",
     "output_type": "stream",
     "text": [
      "D:\\programs\\Anaconda3\\envs\\gradio_env\\lib\\site-packages\\sklearn\\preprocessing\\_encoders.py:227: UserWarning: Found unknown categories in columns [0] during transform. These unknown categories will be encoded as all zeros\n",
      "  warnings.warn(\n",
      "D:\\programs\\Anaconda3\\envs\\gradio_env\\lib\\site-packages\\sklearn\\metrics\\_classification.py:1469: UndefinedMetricWarning: Precision and F-score are ill-defined and being set to 0.0 in labels with no predicted samples. Use `zero_division` parameter to control this behavior.\n",
      "  _warn_prf(average, modifier, msg_start, len(result))\n",
      "D:\\programs\\Anaconda3\\envs\\gradio_env\\lib\\site-packages\\sklearn\\metrics\\_classification.py:1469: UndefinedMetricWarning: Precision and F-score are ill-defined and being set to 0.0 in labels with no predicted samples. Use `zero_division` parameter to control this behavior.\n",
      "  _warn_prf(average, modifier, msg_start, len(result))\n",
      "D:\\programs\\Anaconda3\\envs\\gradio_env\\lib\\site-packages\\sklearn\\metrics\\_classification.py:1469: UndefinedMetricWarning: Precision and F-score are ill-defined and being set to 0.0 in labels with no predicted samples. Use `zero_division` parameter to control this behavior.\n",
      "  _warn_prf(average, modifier, msg_start, len(result))\n"
     ]
    }
   ],
   "source": [
    "from sklearn.metrics import classification_report\n",
    "\n",
    "# After fitting the model, check the performance on the test set\n",
    "y_pred = pipeline.predict(X_test)\n",
    "print(classification_report(Y_test, y_pred))"
   ]
  },
  {
   "cell_type": "code",
   "execution_count": null,
   "id": "0399f152-5cd3-435e-a0f2-a7de36af1fb8",
   "metadata": {},
   "outputs": [],
   "source": [
    "from sklearn.model_selection import GridSearchCV\n",
    "\n",
    "param_grid = {\n",
    "    'classifier__max_depth': [None, 10, 20, 30,40,50,60],\n",
    "    'classifier__min_samples_split': [2, 5, 10,15],\n",
    "    'classifier__min_samples_leaf': [1, 2, 4,6]\n",
    "}\n",
    "\n",
    "grid_search = GridSearchCV(pipeline, param_grid, cv=5, scoring='accuracy')\n",
    "grid_search.fit(X_train, Y_train)\n",
    "print(\"Best parameters:\", grid_search.best_params_)"
   ]
  },
  {
   "cell_type": "code",
   "execution_count": 201,
   "id": "702b8294-6938-43cd-9ddc-7c3b764fe08d",
   "metadata": {},
   "outputs": [
    {
     "name": "stdout",
     "output_type": "stream",
     "text": [
      "              precision    recall  f1-score   support\n",
      "\n",
      "           0       0.38      0.50      0.43         6\n",
      "           1       0.70      0.58      0.64        12\n",
      "\n",
      "    accuracy                           0.56        18\n",
      "   macro avg       0.54      0.54      0.53        18\n",
      "weighted avg       0.59      0.56      0.57        18\n",
      "\n"
     ]
    },
    {
     "name": "stderr",
     "output_type": "stream",
     "text": [
      "D:\\programs\\Anaconda3\\envs\\gradio_env\\lib\\site-packages\\sklearn\\preprocessing\\_encoders.py:227: UserWarning: Found unknown categories in columns [0] during transform. These unknown categories will be encoded as all zeros\n",
      "  warnings.warn(\n"
     ]
    }
   ],
   "source": [
    "from sklearn.ensemble import RandomForestClassifier\n",
    "\n",
    "\n",
    "# Create a pipeline\n",
    "pipeline = Pipeline(steps=[\n",
    "    ('preprocessor', preprocessor),\n",
    "    ('classifier', RandomForestClassifier(class_weight='balanced', random_state=2)\n",
    "    )])\n",
    "pipeline.fit(X_train, Y_train)\n",
    "rf_pred = pipeline.predict(X_test)\n",
    "\n",
    "print(classification_report(Y_test, rf_pred))\n"
   ]
  },
  {
   "cell_type": "code",
   "execution_count": 203,
   "id": "cb582241-3138-4a41-a146-d393fa506253",
   "metadata": {},
   "outputs": [
    {
     "name": "stdout",
     "output_type": "stream",
     "text": [
      "    Actual  Predicted\n",
      "0        0          0\n",
      "1        1          1\n",
      "2        1          1\n",
      "3        1          0\n",
      "4        0          1\n",
      "5        1          0\n",
      "6        1          0\n",
      "7        1          0\n",
      "8        0          0\n",
      "9        1          0\n",
      "10       1          1\n",
      "11       1          1\n",
      "12       0          1\n",
      "13       0          0\n",
      "14       1          1\n",
      "15       1          1\n",
      "16       0          1\n",
      "17       1          1\n"
     ]
    }
   ],
   "source": [
    "predictions = pd.DataFrame({'Actual': Y_test, 'Predicted': rf_pred})\n",
    "print(predictions.head(20))  # View the first 20 predictions"
   ]
  },
  {
   "cell_type": "code",
   "execution_count": 207,
   "id": "0dd9b7ff-721c-445b-9962-736d73c351d8",
   "metadata": {},
   "outputs": [
    {
     "name": "stdout",
     "output_type": "stream",
     "text": [
      "Test Prediction: Failure\n"
     ]
    }
   ],
   "source": [
    "# Example input\n",
    "test_input = pd.DataFrame([[6123.54764705882, 'LEO', 'CCSFS SLC 40']], columns=['PayloadMass', 'Orbit', 'LaunchSite'])\n",
    "\n",
    "# Get prediction\n",
    "test_prediction = pipeline.predict(test_input)\n",
    "print(\"Test Prediction:\", \"Success\" if test_prediction[0] == 1 else \"Failure\")"
   ]
  }
 ],
 "metadata": {
  "kernelspec": {
   "display_name": "Python 3 (ipykernel)",
   "language": "python",
   "name": "python3"
  },
  "language_info": {
   "codemirror_mode": {
    "name": "ipython",
    "version": 3
   },
   "file_extension": ".py",
   "mimetype": "text/x-python",
   "name": "python",
   "nbconvert_exporter": "python",
   "pygments_lexer": "ipython3",
   "version": "3.8.20"
  }
 },
 "nbformat": 4,
 "nbformat_minor": 5
}
